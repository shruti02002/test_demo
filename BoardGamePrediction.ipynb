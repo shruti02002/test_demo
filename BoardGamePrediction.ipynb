{
  "nbformat": 4,
  "nbformat_minor": 0,
  "metadata": {
    "colab": {
      "name": "BoardGamePrediction.ipynb",
      "provenance": [],
      "authorship_tag": "ABX9TyNzzMNlBNxeYlJwBSncYo8N",
      "include_colab_link": true
    },
    "kernelspec": {
      "name": "python3",
      "display_name": "Python 3"
    },
    "language_info": {
      "name": "python"
    }
  },
  "cells": [
    {
      "cell_type": "markdown",
      "metadata": {
        "id": "view-in-github",
        "colab_type": "text"
      },
      "source": [
        "<a href=\"https://colab.research.google.com/github/shruti02002/test_demo/blob/master/BoardGamePrediction.ipynb\" target=\"_parent\"><img src=\"https://colab.research.google.com/assets/colab-badge.svg\" alt=\"Open In Colab\"/></a>"
      ]
    },
    {
      "cell_type": "markdown",
      "source": [
        "IMPORTING LIBRARIES"
      ],
      "metadata": {
        "id": "7Wj_TDwkcvrS"
      }
    },
    {
      "cell_type": "code",
      "execution_count": 2,
      "metadata": {
        "colab": {
          "base_uri": "https://localhost:8080/"
        },
        "id": "wQYEvxfbZDZs",
        "outputId": "a2709bf3-cb09-4445-82d7-11f0cd7c9101"
      },
      "outputs": [
        {
          "output_type": "stream",
          "name": "stdout",
          "text": [
            "3.7.13 (default, Apr 24 2022, 01:04:09) \n",
            "[GCC 7.5.0]\n",
            "1.3.5\n",
            "3.2.2\n",
            "0.11.2\n",
            "1.0.2\n"
          ]
        }
      ],
      "source": [
        "import sys\n",
        "import pandas\n",
        "import matplotlib\n",
        "import seaborn\n",
        "import sklearn\n",
        "\n",
        "print(sys.version)\n",
        "print(pandas.__version__)\n",
        "print(matplotlib.__version__)\n",
        "print(seaborn.__version__)\n",
        "print(sklearn.__version__)"
      ]
    },
    {
      "cell_type": "code",
      "source": [
        "import matplotlib.pyplot as plt\n",
        "import seaborn as sns\n",
        "from sklearn.model_selection import train_test_split"
      ],
      "metadata": {
        "id": "yOEQ-YQvc-58"
      },
      "execution_count": 3,
      "outputs": []
    },
    {
      "cell_type": "code",
      "source": [
        "# Read in the data.\n",
        "games = pandas.read_csv(\"games.csv\", encoding= 'unicode_escape')"
      ],
      "metadata": {
        "id": "lKB7XucNd-c8"
      },
      "execution_count": 4,
      "outputs": []
    },
    {
      "cell_type": "code",
      "source": [
        "#Print the names of the columns in games\n",
        "print(games.columns)\n",
        "print(games.shape)"
      ],
      "metadata": {
        "colab": {
          "base_uri": "https://localhost:8080/"
        },
        "id": "F0J0m-BhrwqW",
        "outputId": "5ba3780a-ae87-4ce7-fa05-857d2a1dd6cc"
      },
      "execution_count": 6,
      "outputs": [
        {
          "output_type": "stream",
          "name": "stdout",
          "text": [
            "Index(['id', 'type', 'name', 'yearpublished', 'minplayers', 'maxplayers',\n",
            "       'playingtime', 'minplaytime', 'maxplaytime', 'minage', 'users_rated',\n",
            "       'average_rating', 'bayes_average_rating', 'total_owners',\n",
            "       'total_traders', 'total_wanters', 'total_wishers', 'total_comments',\n",
            "       'total_weights', 'average_weight'],\n",
            "      dtype='object')\n",
            "(81312, 20)\n"
          ]
        }
      ]
    },
    {
      "cell_type": "code",
      "source": [
        "#Make a histogram of all the ratngs in the average_rating column\n",
        "plt.hist(games[\"average_rating\"])\n",
        "plt.show()"
      ],
      "metadata": {
        "colab": {
          "base_uri": "https://localhost:8080/",
          "height": 265
        },
        "id": "-DkvA-4PsAg1",
        "outputId": "acabdc7c-5246-45cd-cbfc-9a3c34e6e8f4"
      },
      "execution_count": 7,
      "outputs": [
        {
          "output_type": "display_data",
          "data": {
            "text/plain": [
              "<Figure size 432x288 with 1 Axes>"
            ],
            "image/png": "[encoded data removed]"
          },
          "metadata": {
            "needs_background": "light"
          }
        }
      ]
    },
    {
      "cell_type": "code",
      "source": [
        "#Print the first row of all the games with zero scores\n",
        "# The .iloc method on dataframes allows us to index by position.\n",
        "print(games[games[\"average_rating\"] == 0].iloc[0])\n",
        "\n",
        "#print the forst row of all the games with scores greater than 0\n",
        "print(games[games[\"average_rating\"] > 0].iloc[0])"
      ],
      "metadata": {
        "colab": {
          "base_uri": "https://localhost:8080/"
        },
        "id": "cDVqD5ivsb7N",
        "outputId": "b224cd37-8763-467f-ab73-dd3579f7fd28"
      },
      "execution_count": 8,
      "outputs": [
        {
          "output_type": "stream",
          "name": "stdout",
          "text": [
            "id                             318\n",
            "type                     boardgame\n",
            "name                    Looney Leo\n",
            "yearpublished                  0.0\n",
            "minplayers                     0.0\n",
            "maxplayers                     0.0\n",
            "playingtime                    0.0\n",
            "minplaytime                    0.0\n",
            "maxplaytime                    0.0\n",
            "minage                         0.0\n",
            "users_rated                      0\n",
            "average_rating                 0.0\n",
            "bayes_average_rating           0.0\n",
            "total_owners                     0\n",
            "total_traders                    0\n",
            "total_wanters                    0\n",
            "total_wishers                    1\n",
            "total_comments                   0\n",
            "total_weights                    0\n",
            "average_weight                 0.0\n",
            "Name: 13048, dtype: object\n",
            "id                                  12333\n",
            "type                            boardgame\n",
            "name                    Twilight Struggle\n",
            "yearpublished                      2005.0\n",
            "minplayers                            2.0\n",
            "maxplayers                            2.0\n",
            "playingtime                         180.0\n",
            "minplaytime                         180.0\n",
            "maxplaytime                         180.0\n",
            "minage                               13.0\n",
            "users_rated                         20113\n",
            "average_rating                    8.33774\n",
            "bayes_average_rating              8.22186\n",
            "total_owners                        26647\n",
            "total_traders                         372\n",
            "total_wanters                        1219\n",
            "total_wishers                        5865\n",
            "total_comments                       5347\n",
            "total_weights                        2562\n",
            "average_weight                     3.4785\n",
            "Name: 0, dtype: object\n"
          ]
        }
      ]
    },
    {
      "cell_type": "code",
      "source": [
        "#Remove any rows without user reviews\n",
        "games = games[games[\"users_rated\"]>0]\n",
        "#Remove any rows with missing values\n",
        "games = games.dropna(axis=0)\n",
        "\n",
        "#make a histogram of all the ratings in the average_rating column\n",
        "plt.hist(games[\"average_rating\"])\n",
        "#Show the plot\n",
        "plt.show()\n"
      ],
      "metadata": {
        "colab": {
          "base_uri": "https://localhost:8080/",
          "height": 265
        },
        "id": "QRJq4MAttALW",
        "outputId": "400662c3-8eb0-470d-cff2-b6e57e33f141"
      },
      "execution_count": 9,
      "outputs": [
        {
          "output_type": "display_data",
          "data": {
            "text/plain": [
              "<Figure size 432x288 with 1 Axes>"
            ],
            "image/png": "[encoded data removed]"
          },
          "metadata": {
            "needs_background": "light"
          }
        }
      ]
    },
    {
      "cell_type": "code",
      "source": [
        "# correlation matrix- is a table showing the correaltion coefficients between diff set of variables\n",
        "corrmat = games.corr()\n",
        "fig = plt.figure(figsize = (12,9))\n",
        "sns.heatmap(corrmat, vmax=.8, square=True)\n",
        "plt.show()"
      ],
      "metadata": {
        "colab": {
          "base_uri": "https://localhost:8080/",
          "height": 576
        },
        "id": "3zCq8OZ2uBYl",
        "outputId": "30d85318-19f8-42c4-96e1-953196817cc6"
      },
      "execution_count": 11,
      "outputs": [
        {
          "output_type": "display_data",
          "data": {
            "text/plain": [
              "<Figure size 864x648 with 2 Axes>"
            ],
            "image/png": "[encoded data removed]"
          },
          "metadata": {
            "needs_background": "light"
          }
        }
      ]
    },
    {
      "cell_type": "code",
      "source": [
        "#Get all the columns from the dataframe\n",
        "columns = games.columns.tolist()\n",
        "#Filter the columns to remove ones we don't want\n",
        "columns = [c for c in columns if c not in [\"bayes_average_rating\", \"average_rating\", \"type\", \"name\", \"id\"]]\n",
        "\n",
        "#store the variable we'll be predicitng on\n",
        "target = \"average_rating\""
      ],
      "metadata": {
        "id": "2W25lP_GvWVO"
      },
      "execution_count": 12,
      "outputs": []
    },
    {
      "cell_type": "code",
      "source": [
        "#Generate training and test datasets\n",
        "from sklearn.model_selection import train_test_split\n",
        "\n",
        "#generate the trainingset. Set random_state to b able to replicate results\n",
        "train =games.sample(frac=0.8, random_state=1)\n",
        "#Select anything not in the training set and put it in the trainig set\n",
        "test = games.loc[~games.index.isin(train.index)]\n",
        "#Print the sahpes of both sets\n",
        "print(train.shape)\n",
        "print(test.shape)"
      ],
      "metadata": {
        "colab": {
          "base_uri": "https://localhost:8080/"
        },
        "id": "W4pOLgd6wjis",
        "outputId": "c2fa4cdc-c842-4dad-eb5a-911ecb7579e0"
      },
      "execution_count": 14,
      "outputs": [
        {
          "output_type": "stream",
          "name": "stdout",
          "text": [
            "(45515, 20)\n",
            "(11379, 20)\n"
          ]
        }
      ]
    },
    {
      "cell_type": "code",
      "source": [
        "#Import the linear regression model\n",
        "from sklearn.linear_model import LinearRegression\n",
        "#Import the sckit-learn function to compute error\n",
        "from sklearn.metrics import mean_squared_error\n",
        "\n",
        "#Initialize the model class.\n",
        "LR = LinearRegression()\n",
        "\n",
        "#Fit the model to the training data\n",
        "LR.fit(train[columns], train[target])\n",
        "\n",
        "#Generate our predctions for the test set.\n",
        "predictions = LR.predict(test[columns])\n",
        "\n",
        "#Compute error between our test predictions and the actual values\n",
        "mean_squared_error(predictions, test[target])"
      ],
      "metadata": {
        "colab": {
          "base_uri": "https://localhost:8080/"
        },
        "id": "LduVqmJAxVWG",
        "outputId": "2c27d8f6-18d0-44b8-8085-428eaa58feab"
      },
      "execution_count": 18,
      "outputs": [
        {
          "output_type": "execute_result",
          "data": {
            "text/plain": [
              "2.0788190326293234"
            ]
          },
          "metadata": {},
          "execution_count": 18
        }
      ]
    },
    {
      "cell_type": "code",
      "source": [
        "#Import the random forest model\n",
        "from sklearn.ensemble import RandomForestRegressor\n",
        "\n",
        "#Initialize the model class\n",
        "RFR = RandomForestRegressor(n_estimators=100, min_samples_leaf=10, random_state=1)\n",
        "\n",
        "#Fit the model to the data\n",
        "RFR.fit(train[columns], train[target])\n",
        "\n",
        "#generate our predictions for the test set\n",
        "predictions =RFR.predict(test[columns])\n",
        "\n",
        "#Compute error between our test predictions and the actual values\n",
        "mean_squared_error(predictions, test[target])"
      ],
      "metadata": {
        "colab": {
          "base_uri": "https://localhost:8080/"
        },
        "id": "4uxlHnGlzHve",
        "outputId": "6dbc0c74-fcd3-4ca7-cfac-ec09b249730e"
      },
      "execution_count": 21,
      "outputs": [
        {
          "output_type": "execute_result",
          "data": {
            "text/plain": [
              "1.4458625791207198"
            ]
          },
          "metadata": {},
          "execution_count": 21
        }
      ]
    },
    {
      "cell_type": "code",
      "source": [
        "test[columns].iloc[0]"
      ],
      "metadata": {
        "colab": {
          "base_uri": "https://localhost:8080/"
        },
        "id": "3kbrVpsq1enN",
        "outputId": "5f103d24-a83a-4bfd-d3ce-e529c2037b94"
      },
      "execution_count": 22,
      "outputs": [
        {
          "output_type": "execute_result",
          "data": {
            "text/plain": [
              "yearpublished      2011.0000\n",
              "minplayers            2.0000\n",
              "maxplayers            6.0000\n",
              "playingtime         200.0000\n",
              "minplaytime          60.0000\n",
              "maxplaytime         200.0000\n",
              "minage               14.0000\n",
              "users_rated       15709.0000\n",
              "total_owners      17611.0000\n",
              "total_traders       273.0000\n",
              "total_wanters      1108.0000\n",
              "total_wishers      5581.0000\n",
              "total_comments     3188.0000\n",
              "total_weights      1486.0000\n",
              "average_weight        3.6359\n",
              "Name: 9, dtype: float64"
            ]
          },
          "metadata": {},
          "execution_count": 22
        }
      ]
    },
    {
      "cell_type": "code",
      "source": [
        "test[target].iloc[0]"
      ],
      "metadata": {
        "colab": {
          "base_uri": "https://localhost:8080/"
        },
        "id": "IN3_6zhD3SOF",
        "outputId": "ed71b2e0-e89d-43e0-e454-119ecaea4add"
      },
      "execution_count": 26,
      "outputs": [
        {
          "output_type": "execute_result",
          "data": {
            "text/plain": [
              "8.07933"
            ]
          },
          "metadata": {},
          "execution_count": 26
        }
      ]
    }
  ]
}